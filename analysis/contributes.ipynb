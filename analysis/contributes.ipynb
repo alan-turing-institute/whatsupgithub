{
 "cells": [
  {
   "cell_type": "code",
   "execution_count": null,
   "metadata": {},
   "outputs": [],
   "source": [
    "import matplotlib.pyplot as plt\n",
    "import seaborn as sns\n",
    "import numpy as np\n",
    "import pandas as pd\n",
    "\n",
    "sns.set()\n",
    "plt.style.use(\"ggplot\")\n",
    "\n",
    "df = pd.read_csv(\"../repos.csv\")\n",
    "df.head()"
   ]
  },
  {
   "cell_type": "code",
   "execution_count": null,
   "metadata": {},
   "outputs": [],
   "source": [
    "contributors = {}\n",
    "for repo in df[\"contributors\"]:\n",
    "    lst = eval(repo)\n",
    "    for per in lst:\n",
    "        if per in contributors:\n",
    "            contributors[per] += 1\n",
    "        else:\n",
    "            contributors[per] = 1\n",
    "counted = (\n",
    "    pd.DataFrame(contributors, index=[0])\n",
    "    .T.rename(columns={0: \"Repos Contributed to in ATI\"})\n",
    "    .sort_values(by=\"Repos Contributed to in ATI\", ascending=False)\n",
    "    .head(50)\n",
    ")\n",
    "fig, ax = plt.subplots(1, figsize=(5, 10), dpi=100)\n",
    "sns.barplot(y=counted.index, x=counted[\"Repos Contributed to in ATI\"], ax=ax)"
   ]
  }
 ],
 "metadata": {
  "kernelspec": {
   "display_name": "playground",
   "language": "python",
   "name": "python3"
  },
  "language_info": {
   "codemirror_mode": {
    "name": "ipython",
    "version": 3
   },
   "file_extension": ".py",
   "mimetype": "text/x-python",
   "name": "python",
   "nbconvert_exporter": "python",
   "pygments_lexer": "ipython3",
   "version": "3.10.11"
  },
  "orig_nbformat": 4
 },
 "nbformat": 4,
 "nbformat_minor": 2
}
